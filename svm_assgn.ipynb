{
 "cells": [
  {
   "cell_type": "code",
   "execution_count": 1,
   "id": "3a3dff47-7c56-4d3b-a1dd-1182c7c1c3f8",
   "metadata": {},
   "outputs": [],
   "source": [
    "#1 What is a Support Vector Machine (SVM)?\n",
    "#>>SVM finds the best boundary (hyperplane) that separates data points of different classes with the maximum margin — meaning it tries to create the widest possible gap between classes.\n",
    "#Key points:Support vectors are the data points closest to the boundary — they “support” or define the decision line.\n",
    "#Works well for linear and nonlinear data (using kernel tricks like polynomial or RBF).\n",
    "#Goal: Maximize margin between classes → better generalization on new data.\n",
    "#Example:If you have two classes of points on a graph, SVM finds the line (in 2D) or plane (in higher dimensions) that best separates them with the widest possible gap."
   ]
  },
  {
   "cell_type": "code",
   "execution_count": 2,
   "id": "1eefc154-8e2f-4d2c-a609-288d21d773bb",
   "metadata": {},
   "outputs": [],
   "source": [
    "#2 What is the difference between Hard Margin and Soft Margin SVM?\n",
    "#A Hard Margin SVM is used when the data is perfectly linearly separable. It aims to find a hyperplane that separates all classes without any misclassification, meaning every data point lies either on or outside the margin boundary. However, this makes it very sensitive to noise and outliers, as even a single misclassified point can make separation impossible.\n",
    "#On the other hand, a Soft Margin SVM allows some data points to be misclassified or fall within the margin. It introduces a **penalty parameter (C)** that controls the trade-off between maximizing the margin and minimizing classification errors. This approach makes Soft Margin SVMs more flexible and practical for real-world, non-linearly separable data, providing better generalization and robustness against noise."
   ]
  },
  {
   "cell_type": "code",
   "execution_count": 3,
   "id": "8cc894fd-b064-4969-ad7e-db9070589914",
   "metadata": {},
   "outputs": [],
   "source": [
    "#3 What is the mathematical intuition behind SVM?\n",
    "#>>The mathematical intuition behind SVM is to find a hyperplane that separates data points of different classes with the maximum margin — that is, the largest possible distance between the hyperplane and the nearest data points of each class (called support vectors)."
   ]
  },
  {
   "cell_type": "code",
   "execution_count": 4,
   "id": "6e858bff-0418-41e2-a4e0-95a89ae2df71",
   "metadata": {},
   "outputs": [],
   "source": [
    "#4 What is the role of Lagrange Multipliers in SVM?\n",
    "#>> Lagrange multipliers in SVM help convert the constrained optimization problem into a dual form, allowing efficient computation and identification of support vectors while enabling the kernel trick for nonlinear data."
   ]
  },
  {
   "cell_type": "code",
   "execution_count": 5,
   "id": "a9cf8ede-ae7e-4c4a-b27c-32aacd7a1057",
   "metadata": {},
   "outputs": [],
   "source": [
    "#5 What are Support Vectors in SVM?\n",
    "#>> Support vectors are the data points that lie closest to the decision boundary; they define the position and orientation of the hyperplane and are crucial for maximizing the margin in SVM."
   ]
  },
  {
   "cell_type": "code",
   "execution_count": 6,
   "id": "6c93412a-548a-4ba3-be64-03d61ff339f3",
   "metadata": {},
   "outputs": [],
   "source": [
    "#6 What is a Support Vector Classifier (SVC)?\n",
    "#>> A Support Vector Classifier (SVC) is the practical implementation of SVM that finds the optimal hyperplane separating classes while allowing some misclassifications (soft margin) for better generalization on real-world data."
   ]
  },
  {
   "cell_type": "code",
   "execution_count": 7,
   "id": "3b9cb259-f7d0-4fa8-afff-f87701850687",
   "metadata": {},
   "outputs": [],
   "source": [
    "#7. What is a Support Vector Regressor (SVR)?\n",
    "#>> A Support Vector Regressor (SVR) applies SVM principles to regression tasks, aiming to fit a function that deviates from actual targets by at most a small margin (ε) while keeping the model as flat as possible."
   ]
  },
  {
   "cell_type": "code",
   "execution_count": 8,
   "id": "1d364f20-64d2-487a-bf68-43efb8995c72",
   "metadata": {},
   "outputs": [],
   "source": [
    "#8. What is the Kernel Trick in SVM?\n",
    "#>> The kernel trick allows SVM to handle nonlinear data by mapping inputs into a higher-dimensional space using kernel functions, enabling linear separation without explicitly computing the transformation."
   ]
  },
  {
   "cell_type": "code",
   "execution_count": 9,
   "id": "c2c4c711-acda-43bc-a4c2-88b4864e5c2d",
   "metadata": {},
   "outputs": [],
   "source": [
    "#9. Compare Linear Kernel, Polynomial Kernel, and RBF Kernel\n",
    "#>> Comparison of SVM Kernels:Linear Kernel:No transformation; good for linearly separable data; fast and simple.\n",
    "#Polynomial Kernel: Maps data to higher dimensions using a polynomial function; captures curved relationships.\n",
    "#RBF (Gaussian) Kernel: Maps data into infinite-dimensional space; handles highly nonlinear patterns; very flexible but can overfit if not tuned."
   ]
  },
  {
   "cell_type": "code",
   "execution_count": 10,
   "id": "a871a7b6-848b-4c9f-865d-85096b7230c5",
   "metadata": {},
   "outputs": [],
   "source": [
    "#10 What is the effect of the C parameter in SVM\n",
    "#>>The C parameter controls the trade-off between maximizing the margin and minimizing classification errors:\n",
    "#High C:fewer errors, smaller margin (risk of overfitting).\n",
    "#Low C:larger margin, more errors allowed (better generalization)."
   ]
  },
  {
   "cell_type": "code",
   "execution_count": 11,
   "id": "4fc7733b-9c20-4ccc-adc2-8899c356d18e",
   "metadata": {},
   "outputs": [],
   "source": [
    "#11 What is the role of the Gamma parameter in RBF Kernel SVM?\n",
    "#In RBF Kernel SVM, gamma (γ) controls the influence of a single training point:\n",
    "#High γ: each point has a narrow influence → model can overfit.\n",
    "#Low γ: points have wide influence → smoother decision boundary, better generalization."
   ]
  },
  {
   "cell_type": "code",
   "execution_count": 12,
   "id": "c22de985-7279-46eb-a106-6fd88e3adaba",
   "metadata": {},
   "outputs": [],
   "source": [
    "#12 What is the Naïve Bayes classifier, and why is it called \"Naïve\"?\n",
    "#>> A Naïve Bayes classifier is a probabilistic model that predicts class labels using Bayes’ theorem, assuming features are independent. It’s called “naïve” because this independence assumption is often unrealistic in real-world data."
   ]
  },
  {
   "cell_type": "code",
   "execution_count": 13,
   "id": "876b3861-9787-4b4c-9567-e0062853a7bc",
   "metadata": {},
   "outputs": [],
   "source": [
    "#13 What is Bayes’ Theorem?\n",
    "#>> Bayes’ Theorem calculates the probability of an event based on prior knowledge:\n",
    "#P(A|B) = \\frac{P(B|A) \\cdot P(A)}{P(B)}\n",
    "#It updates the probability of A given new evidence B."
   ]
  },
  {
   "cell_type": "code",
   "execution_count": 14,
   "id": "1f421e36-7fc1-4ec5-ad89-6c2d17250cbf",
   "metadata": {},
   "outputs": [],
   "source": [
    "#14 Explain the differences between Gaussian Naïve Bayes, Multinomial Naïve Bayes, and Bernoulli Naïve Bayes\n",
    "#>> Differences between Naïve Bayes types:Gaussian NB: Assumes features are continuous and follow a normal (Gaussian) distribution.\n",
    "#Multinomial NB: Works with count data (e.g., word frequencies in text).\n",
    "#Bernoulli NB:Works with binary/boolean features (e.g., presence/absence of a word)."
   ]
  },
  {
   "cell_type": "code",
   "execution_count": 15,
   "id": "5ce50112-e8fd-4555-8f79-f89326ee604e",
   "metadata": {},
   "outputs": [],
   "source": [
    "#15 When should you use Gaussian Naïve Bayes over other variants?\n",
    "#>> Use Gaussian Naïve Bayes when your features are continuous numerical values that roughly follow a normal (Gaussian) distribution."
   ]
  },
  {
   "cell_type": "code",
   "execution_count": 16,
   "id": "0972ad42-4ed7-4a8e-a65a-935a335fd152",
   "metadata": {},
   "outputs": [],
   "source": [
    "#16 What are the key assumptions made by Naïve Bayes?\n",
    "#>> Naïve Bayes assumes:1.Feature independence: All features are conditionally independent given the class.\n",
    "#2.Feature distribution: Each feature follows a specific probability distribution (e.g., Gaussian for continuous, multinomial for counts, Bernoulli for binary)."
   ]
  },
  {
   "cell_type": "code",
   "execution_count": 17,
   "id": "f7cf56ec-101f-43da-bdb5-847acfff773d",
   "metadata": {},
   "outputs": [],
   "source": [
    "#17. What are the advantages and disadvantages of Naïve Bayes?\n",
    "#>>Advantages:Fast and simple, works well with high-dimensional data.\n",
    "# Performs surprisingly well even if independence assumption is violated.\n",
    "#Requires less training data.\n",
    "#Disadvantages:Assumes feature independence, which is often unrealistic.\n",
    "#Poor performance if features are highly correlated.\n",
    "#Cannot capture complex relationships between features."
   ]
  },
  {
   "cell_type": "code",
   "execution_count": 18,
   "id": "3e1806d2-0c56-491d-b4b1-f1efc93517ea",
   "metadata": {},
   "outputs": [],
   "source": [
    "#18.Why is Naïve Bayes a good choice for text classification?\n",
    "#>>Naïve Bayes is ideal for text classification because text features (like word counts) are high-dimensional and sparse, and it handles categorical/count data efficiently while being fast and scalable."
   ]
  },
  {
   "cell_type": "code",
   "execution_count": 19,
   "id": "bd66966e-c71a-4f14-af49-e227d4b51e26",
   "metadata": {},
   "outputs": [],
   "source": [
    "#19.Compare SVM and Naïve Bayes for classification tasks\n",
    "#>>SVM vs Naïve Bayes:SVM:Finds a maximum-margin hyperplane, works well for high-dimensional and complex boundaries, can use kernels for nonlinear data; slower to train on very large datasets.\n",
    "#Naïve Bayes:Probabilistic model assuming feature independence, fast and scalable, works well with text and categorical data,but struggles with correlated features and complex decision boundaries."
   ]
  },
  {
   "cell_type": "code",
   "execution_count": 20,
   "id": "ec31fec2-95d6-457d-9d77-05f4dd3c1e02",
   "metadata": {},
   "outputs": [],
   "source": [
    "#20 How does Laplace Smoothing help in Naïve Bayes??\n",
    "#>>Laplace smoothing prevents zero probabilities for unseen features by adding a small constant (usually 1) to feature counts, ensuring the model can handle words or events not seen in training."
   ]
  },
  {
   "cell_type": "code",
   "execution_count": 21,
   "id": "541921e0-ef35-473a-b170-17bfb772a98c",
   "metadata": {},
   "outputs": [
    {
     "name": "stdout",
     "output_type": "stream",
     "text": [
      "SVM Accuracy: 1.00\n"
     ]
    }
   ],
   "source": [
    "#21 Write a Python program to train an SVM Classifier on the Iris dataset and evaluate accuracy\n",
    "from sklearn import datasets\n",
    "from sklearn.model_selection import train_test_split\n",
    "from sklearn.svm import SVC\n",
    "from sklearn.metrics import accuracy_score\n",
    "\n",
    "iris = datasets.load_iris()\n",
    "X = iris.data\n",
    "y = iris.target\n",
    "\n",
    "X_train, X_test, y_train, y_test = train_test_split(X, y, test_size=0.3, random_state=42)\n",
    "\n",
    "svm_clf = SVC(kernel='linear')\n",
    "svm_clf.fit(X_train, y_train)\n",
    "\n",
    "y_pred = svm_clf.predict(X_test)\n",
    "\n",
    "accuracy = accuracy_score(y_test, y_pred)\n",
    "print(f\"SVM Accuracy: {accuracy:.2f}\")"
   ]
  },
  {
   "cell_type": "code",
   "execution_count": 22,
   "id": "4fe79bcc-8618-4679-b58e-2925ab21bea1",
   "metadata": {},
   "outputs": [
    {
     "name": "stdout",
     "output_type": "stream",
     "text": [
      "Linear Kernel Accuracy: 0.98\n",
      "RBF Kernel Accuracy: 0.76\n"
     ]
    }
   ],
   "source": [
    "#22 Write a Python program to train two SVM classifiers with Linear and RBF kernels on the Wine dataset, then compare their accuracies\n",
    "from sklearn import datasets\n",
    "from sklearn.model_selection import train_test_split\n",
    "from sklearn.svm import SVC\n",
    "from sklearn.metrics import accuracy_score\n",
    "\n",
    "wine = datasets.load_wine()\n",
    "X = wine.data\n",
    "y = wine.target\n",
    "\n",
    "X_train, X_test, y_train, y_test = train_test_split(X, y, test_size=0.3, random_state=42)\n",
    "\n",
    "svm_linear = SVC(kernel='linear')\n",
    "svm_linear.fit(X_train, y_train)\n",
    "y_pred_linear = svm_linear.predict(X_test)\n",
    "accuracy_linear = accuracy_score(y_test, y_pred_linear)\n",
    "\n",
    "svm_rbf = SVC(kernel='rbf')\n",
    "svm_rbf.fit(X_train, y_train)\n",
    "y_pred_rbf = svm_rbf.predict(X_test)\n",
    "accuracy_rbf = accuracy_score(y_test, y_pred_rbf)\n",
    "\n",
    "print(f\"Linear Kernel Accuracy: {accuracy_linear:.2f}\")\n",
    "print(f\"RBF Kernel Accuracy: {accuracy_rbf:.2f}\")"
   ]
  },
  {
   "cell_type": "code",
   "execution_count": 23,
   "id": "1e6149a7-1ad9-40ec-9b21-8b5426e13d41",
   "metadata": {},
   "outputs": [
    {
     "name": "stdout",
     "output_type": "stream",
     "text": [
      "SVR Mean Squared Error: 0.35\n"
     ]
    }
   ],
   "source": [
    "#23 Write a Python program to train an SVM Regressor (SVR) on a housing dataset and evaluate it using Mean Squared Error (MSE)\n",
    "from sklearn.datasets import fetch_california_housing\n",
    "from sklearn.model_selection import train_test_split\n",
    "from sklearn.svm import SVR\n",
    "from sklearn.metrics import mean_squared_error\n",
    "from sklearn.preprocessing import StandardScaler\n",
    "\n",
    "housing = fetch_california_housing()\n",
    "X = housing.data\n",
    "y = housing.target\n",
    "\n",
    "scaler = StandardScaler()\n",
    "X_scaled = scaler.fit_transform(X)\n",
    "\n",
    "X_train, X_test, y_train, y_test = train_test_split(X_scaled, y, test_size=0.3, random_state=42)\n",
    "\n",
    "svr = SVR(kernel='rbf')\n",
    "svr.fit(X_train, y_train)\n",
    "\n",
    "y_pred = svr.predict(X_test)\n",
    "\n",
    "mse = mean_squared_error(y_test, y_pred)\n",
    "print(f\"SVR Mean Squared Error: {mse:.2f}\")"
   ]
  },
  {
   "cell_type": "code",
   "execution_count": 24,
   "id": "5c4ef5bb-9f77-4346-b79b-5f9985d79c87",
   "metadata": {},
   "outputs": [
    {
     "data": {
      "image/png": "[encoded data removed]",
      "text/plain": [
       "<Figure size 640x480 with 1 Axes>"
      ]
     },
     "metadata": {},
     "output_type": "display_data"
    }
   ],
   "source": [
    "#24 Write a Python program to train an SVM Classifier with a Polynomial Kernel and visualize the decision boundary\n",
    "import numpy as np\n",
    "import matplotlib.pyplot as plt\n",
    "from sklearn import datasets\n",
    "from sklearn.svm import SVC\n",
    "\n",
    "X, y = datasets.make_moons(n_samples=200, noise=0.2, random_state=42)\n",
    "\n",
    "svm_poly = SVC(kernel='poly', degree=3, C=1.0)\n",
    "svm_poly.fit(X, y)\n",
    "\n",
    "x_min, x_max = X[:, 0].min() - 1, X[:, 0].max() + 1\n",
    "y_min, y_max = X[:, 1].min() - 1, X[:, 1].max() + 1\n",
    "xx, yy = np.meshgrid(np.linspace(x_min, x_max, 500),\n",
    "                     np.linspace(y_min, y_max, 500))\n",
    "\n",
    "Z = svm_poly.predict(np.c_[xx.ravel(), yy.ravel()])\n",
    "Z = Z.reshape(xx.shape)\n",
    "\n",
    "plt.contourf(xx, yy, Z, alpha=0.3)\n",
    "plt.scatter(X[:, 0], X[:, 1], c=y, s=50, edgecolors='k')\n",
    "plt.title(\"SVM with Polynomial Kernel Decision Boundary\")\n",
    "plt.show()"
   ]
  },
  {
   "cell_type": "code",
   "execution_count": 25,
   "id": "7930f46b-c91e-4a6b-831e-da58c958be78",
   "metadata": {},
   "outputs": [
    {
     "name": "stdout",
     "output_type": "stream",
     "text": [
      "Gaussian Naive Bayes Accuracy: 0.94\n"
     ]
    }
   ],
   "source": [
    "#25 Write a Python program to train a Gaussian Naïve Bayes classifier on the Breast Cancer dataset and evaluate accuracy\n",
    "from sklearn.datasets import load_breast_cancer\n",
    "from sklearn.model_selection import train_test_split\n",
    "from sklearn.naive_bayes import GaussianNB\n",
    "from sklearn.metrics import accuracy_score\n",
    "\n",
    "data = load_breast_cancer()\n",
    "X = data.data\n",
    "y = data.target\n",
    "\n",
    "X_train, X_test, y_train, y_test = train_test_split(X, y, test_size=0.3, random_state=42)\n",
    "\n",
    "gnb = GaussianNB()\n",
    "gnb.fit(X_train, y_train)\n",
    "\n",
    "y_pred = gnb.predict(X_test)\n",
    "\n",
    "accuracy = accuracy_score(y_test, y_pred)\n",
    "print(f\"Gaussian Naive Bayes Accuracy: {accuracy:.2f}\")"
   ]
  },
  {
   "cell_type": "code",
   "execution_count": 27,
   "id": "64d40c08-f4df-4c3c-a1ec-3a696c43ae6e",
   "metadata": {},
   "outputs": [
    {
     "name": "stdout",
     "output_type": "stream",
     "text": [
      "Multinomial Naive Bayes Accuracy: 0.66\n"
     ]
    }
   ],
   "source": [
    "#26 Write a Python program to train a Multinomial Naïve Bayes classifier for text classification using the 20 Newsgroups dataset.\n",
    "from sklearn.datasets import fetch_20newsgroups\n",
    "from sklearn.feature_extraction.text import CountVectorizer\n",
    "from sklearn.model_selection import train_test_split\n",
    "from sklearn.naive_bayes import MultinomialNB\n",
    "from sklearn.metrics import accuracy_score\n",
    "\n",
    "newsgroups = fetch_20newsgroups(subset='all', categories=None, remove=('headers','footers','quotes'))\n",
    "X = newsgroups.data\n",
    "y = newsgroups.target\n",
    "\n",
    "vectorizer = CountVectorizer(stop_words='english')\n",
    "X_vec = vectorizer.fit_transform(X)\n",
    "\n",
    "X_train, X_test, y_train, y_test = train_test_split(X_vec, y, test_size=0.3, random_state=42)\n",
    "\n",
    "mnb = MultinomialNB()\n",
    "mnb.fit(X_train, y_train)\n",
    "\n",
    "y_pred = mnb.predict(X_test)\n",
    "\n",
    "accuracy = accuracy_score(y_test, y_pred)\n",
    "print(f\"Multinomial Naive Bayes Accuracy: {accuracy:.2f}\")"
   ]
  },
  {
   "cell_type": "code",
   "execution_count": 1,
   "id": "adfdaa0b-767a-479f-93c2-749adecca70d",
   "metadata": {},
   "outputs": [
    {
     "data": {
      "image/png": "[encoded data removed]",
      "text/plain": [
       "<Figure size 1200x400 with 3 Axes>"
      ]
     },
     "metadata": {},
     "output_type": "display_data"
    }
   ],
   "source": [
    "#27 Write a Python program to train an SVM Classifier with different C values and compare the decision boundaries visually\n",
    "import numpy as np\n",
    "import matplotlib.pyplot as plt\n",
    "from sklearn import datasets\n",
    "from sklearn.svm import SVC\n",
    "\n",
    "X, y = datasets.make_blobs(n_samples=100, centers=2, random_state=6)\n",
    "\n",
    "C_values = [0.1, 1, 10]\n",
    "fig, axes = plt.subplots(1, 3, figsize=(12, 4))\n",
    "\n",
    "for i, C in enumerate(C_values):\n",
    "    svm = SVC(kernel='linear', C=C)\n",
    "    svm.fit(X, y)\n",
    "    \n",
    "    x_min, x_max = X[:, 0].min() - 1, X[:, 0].max() + 1\n",
    "    y_min, y_max = X[:, 1].min() - 1, X[:, 1].max() + 1\n",
    "    xx, yy = np.meshgrid(np.linspace(x_min, x_max, 500),\n",
    "                         np.linspace(y_min, y_max, 500))\n",
    "    \n",
    "    Z = svm.predict(np.c_[xx.ravel(), yy.ravel()]).reshape(xx.shape)\n",
    "    \n",
    "    axes[i].contourf(xx, yy, Z, alpha=0.3)\n",
    "    axes[i].scatter(X[:, 0], X[:, 1], c=y, s=50, edgecolors='k')\n",
    "    axes[i].set_title(f\"SVM (C = {C})\")\n",
    "\n",
    "plt.tight_layout()\n",
    "plt.show()"
   ]
  },
  {
   "cell_type": "code",
   "execution_count": 2,
   "id": "8ce3b665-61b4-4564-a146-e0d85d36d2d8",
   "metadata": {},
   "outputs": [
    {
     "name": "stdout",
     "output_type": "stream",
     "text": [
      "Bernoulli Naive Bayes Accuracy: 0.53\n"
     ]
    }
   ],
   "source": [
    "#28 Write a Python program to train a Bernoulli Naïve Bayes classifier for binary classification on a dataset with binary features\n",
    "import numpy as np\n",
    "from sklearn.naive_bayes import BernoulliNB\n",
    "from sklearn.model_selection import train_test_split\n",
    "from sklearn.metrics import accuracy_score\n",
    "\n",
    "np.random.seed(42)\n",
    "X = np.random.randint(2, size=(200, 10))  # 200 samples, 10 binary features\n",
    "y = np.random.randint(2, size=200)        # Binary target\n",
    "\n",
    "X_train, X_test, y_train, y_test = train_test_split(X, y, test_size=0.3, random_state=42)\n",
    "\n",
    "bnb = BernoulliNB()\n",
    "bnb.fit(X_train, y_train)\n",
    "\n",
    "y_pred = bnb.predict(X_test)\n",
    "\n",
    "accuracy = accuracy_score(y_test, y_pred)\n",
    "print(f\"Bernoulli Naive Bayes Accuracy: {accuracy:.2f}\")"
   ]
  },
  {
   "cell_type": "code",
   "execution_count": 3,
   "id": "6f76c901-0b97-4a3a-8d58-5f332b6007fc",
   "metadata": {},
   "outputs": [
    {
     "name": "stdout",
     "output_type": "stream",
     "text": [
      "Accuracy without scaling: 0.76\n",
      "Accuracy with scaling:    0.98\n"
     ]
    }
   ],
   "source": [
    "#29 Write a Python program to apply feature scaling before training an SVM model and compare results with unscaled data\n",
    "from sklearn import datasets\n",
    "from sklearn.model_selection import train_test_split\n",
    "from sklearn.svm import SVC\n",
    "from sklearn.preprocessing import StandardScaler\n",
    "from sklearn.metrics import accuracy_score\n",
    "\n",
    "X, y = datasets.load_wine(return_X_y=True)\n",
    "X_train, X_test, y_train, y_test = train_test_split(X, y, test_size=0.3, random_state=42)\n",
    "\n",
    "svm_unscaled = SVC(kernel='rbf')\n",
    "svm_unscaled.fit(X_train, y_train)\n",
    "y_pred_unscaled = svm_unscaled.predict(X_test)\n",
    "acc_unscaled = accuracy_score(y_test, y_pred_unscaled)\n",
    "\n",
    "scaler = StandardScaler()\n",
    "X_train_scaled = scaler.fit_transform(X_train)\n",
    "X_test_scaled = scaler.transform(X_test)\n",
    "\n",
    "svm_scaled = SVC(kernel='rbf')\n",
    "svm_scaled.fit(X_train_scaled, y_train)\n",
    "y_pred_scaled = svm_scaled.predict(X_test_scaled)\n",
    "acc_scaled = accuracy_score(y_test, y_pred_scaled)\n",
    "\n",
    "print(f\"Accuracy without scaling: {acc_unscaled:.2f}\")\n",
    "print(f\"Accuracy with scaling:    {acc_scaled:.2f}\")"
   ]
  },
  {
   "cell_type": "code",
   "execution_count": 4,
   "id": "99a63fea-e4b0-48cc-8b2e-9600887c4e75",
   "metadata": {},
   "outputs": [
    {
     "name": "stdout",
     "output_type": "stream",
     "text": [
      "Accuracy without Laplace Smoothing: 0.98\n",
      "Accuracy with Laplace Smoothing:    1.00\n"
     ]
    }
   ],
   "source": [
    "#30 Write a Python program to train a Gaussian Naïve Bayes model and compare the predictions before and after Laplace Smoothing\n",
    "import numpy as np\n",
    "from sklearn.naive_bayes import GaussianNB\n",
    "from sklearn.metrics import accuracy_score\n",
    "from sklearn.model_selection import train_test_split\n",
    "from sklearn.datasets import load_iris\n",
    "\n",
    "data = load_iris()\n",
    "X, y = data.data, data.target\n",
    "X_train, X_test, y_train, y_test = train_test_split(X, y, test_size=0.3, random_state=42)\n",
    "\n",
    "gnb_no_smoothing = GaussianNB(var_smoothing=1e-9)\n",
    "gnb_no_smoothing.fit(X_train, y_train)\n",
    "y_pred_no_smoothing = gnb_no_smoothing.predict(X_test)\n",
    "acc_no_smoothing = accuracy_score(y_test, y_pred_no_smoothing)\n",
    "\n",
    "gnb_smoothing = GaussianNB(var_smoothing=1e-2)\n",
    "gnb_smoothing.fit(X_train, y_train)\n",
    "y_pred_smoothing = gnb_smoothing.predict(X_test)\n",
    "acc_smoothing = accuracy_score(y_test, y_pred_smoothing)\n",
    "\n",
    "print(f\"Accuracy without Laplace Smoothing: {acc_no_smoothing:.2f}\")\n",
    "print(f\"Accuracy with Laplace Smoothing:    {acc_smoothing:.2f}\")"
   ]
  },
  {
   "cell_type": "code",
   "execution_count": 5,
   "id": "dce6e367-ae32-4779-ae5d-675329d38394",
   "metadata": {},
   "outputs": [
    {
     "name": "stdout",
     "output_type": "stream",
     "text": [
      "Best Parameters: {'C': 0.1, 'gamma': 0.1, 'kernel': 'poly'}\n",
      "Best Model Accuracy: 1.00\n"
     ]
    }
   ],
   "source": [
    "#31 Write a Python program to train an SVM Classifier and use GridSearchCV to tune the hyperparameters (C, gamma, kernel)\n",
    "from sklearn import datasets\n",
    "from sklearn.model_selection import train_test_split, GridSearchCV\n",
    "from sklearn.svm import SVC\n",
    "from sklearn.metrics import accuracy_score\n",
    "\n",
    "iris = datasets.load_iris()\n",
    "X, y = iris.data, iris.target\n",
    "\n",
    "X_train, X_test, y_train, y_test = train_test_split(X, y, test_size=0.3, random_state=42)\n",
    "\n",
    "param_grid = {'C': [0.1, 1, 10],\n",
    "    'gamma': [0.01, 0.1, 1],\n",
    "    'kernel': ['linear', 'rbf', 'poly']}\n",
    "\n",
    "grid = GridSearchCV(SVC(), param_grid, refit=True, cv=5)\n",
    "grid.fit(X_train, y_train)\n",
    "\n",
    "best_model = grid.best_estimator_\n",
    "y_pred = best_model.predict(X_test)\n",
    "accuracy = accuracy_score(y_test, y_pred)\n",
    "\n",
    "print(\"Best Parameters:\", grid.best_params_)\n",
    "print(f\"Best Model Accuracy: {accuracy:.2f}\")"
   ]
  },
  {
   "cell_type": "code",
   "execution_count": 6,
   "id": "aae5b9d9-0d20-4da1-ae84-f490d2c13f40",
   "metadata": {},
   "outputs": [
    {
     "name": "stdout",
     "output_type": "stream",
     "text": [
      "Accuracy without class weighting: 0.91\n",
      "Accuracy with class weighting:    0.90\n",
      "\n",
      "Classification Report with Class Weighting:\n",
      "              precision    recall  f1-score   support\n",
      "\n",
      "           0       0.95      0.93      0.94       262\n",
      "           1       0.58      0.68      0.63        38\n",
      "\n",
      "    accuracy                           0.90       300\n",
      "   macro avg       0.77      0.81      0.78       300\n",
      "weighted avg       0.91      0.90      0.90       300\n",
      "\n"
     ]
    }
   ],
   "source": [
    "#32 Write a Python program to train an SVM Classifier on an imbalanced dataset and apply class weighting and check it improve accuracy\n",
    "from sklearn.datasets import make_classification\n",
    "from sklearn.model_selection import train_test_split\n",
    "from sklearn.svm import SVC\n",
    "from sklearn.metrics import accuracy_score, classification_report\n",
    "\n",
    "X, y = make_classification(n_samples=1000, n_features=10, n_classes=2,\n",
    "                           weights=[0.9, 0.1], random_state=42)\n",
    "\n",
    "X_train, X_test, y_train, y_test = train_test_split(X, y, test_size=0.3, random_state=42)\n",
    "\n",
    "svm_unweighted = SVC(kernel='rbf', class_weight=None)\n",
    "svm_unweighted.fit(X_train, y_train)\n",
    "y_pred_unweighted = svm_unweighted.predict(X_test)\n",
    "acc_unweighted = accuracy_score(y_test, y_pred_unweighted)\n",
    "\n",
    "svm_weighted = SVC(kernel='rbf', class_weight='balanced')\n",
    "svm_weighted.fit(X_train, y_train)\n",
    "y_pred_weighted = svm_weighted.predict(X_test)\n",
    "acc_weighted = accuracy_score(y_test, y_pred_weighted)\n",
    "\n",
    "print(f\"Accuracy without class weighting: {acc_unweighted:.2f}\")\n",
    "print(f\"Accuracy with class weighting:    {acc_weighted:.2f}\")\n",
    "print(\"\\nClassification Report with Class Weighting:\")\n",
    "print(classification_report(y_test, y_pred_weighted))"
   ]
  },
  {
   "cell_type": "code",
   "execution_count": 7,
   "id": "fadfba99-df49-4fc0-88fb-9ead99765641",
   "metadata": {},
   "outputs": [
    {
     "name": "stdout",
     "output_type": "stream",
     "text": [
      "Spam Detection Accuracy: 0.33\n",
      "\n",
      "Classification Report:\n",
      "              precision    recall  f1-score   support\n",
      "\n",
      "           0       0.33      1.00      0.50         1\n",
      "           1       0.00      0.00      0.00         2\n",
      "\n",
      "    accuracy                           0.33         3\n",
      "   macro avg       0.17      0.50      0.25         3\n",
      "weighted avg       0.11      0.33      0.17         3\n",
      "\n"
     ]
    },
    {
     "name": "stderr",
     "output_type": "stream",
     "text": [
      "C:\\Users\\Lenovo\\anaconda3\\Lib\\site-packages\\sklearn\\metrics\\_classification.py:1531: UndefinedMetricWarning: Precision is ill-defined and being set to 0.0 in labels with no predicted samples. Use `zero_division` parameter to control this behavior.\n",
      "  _warn_prf(average, modifier, f\"{metric.capitalize()} is\", len(result))\n",
      "C:\\Users\\Lenovo\\anaconda3\\Lib\\site-packages\\sklearn\\metrics\\_classification.py:1531: UndefinedMetricWarning: Precision is ill-defined and being set to 0.0 in labels with no predicted samples. Use `zero_division` parameter to control this behavior.\n",
      "  _warn_prf(average, modifier, f\"{metric.capitalize()} is\", len(result))\n",
      "C:\\Users\\Lenovo\\anaconda3\\Lib\\site-packages\\sklearn\\metrics\\_classification.py:1531: UndefinedMetricWarning: Precision is ill-defined and being set to 0.0 in labels with no predicted samples. Use `zero_division` parameter to control this behavior.\n",
      "  _warn_prf(average, modifier, f\"{metric.capitalize()} is\", len(result))\n"
     ]
    }
   ],
   "source": [
    "#33 Write a Python program to implement a Naïve Bayes classifier for spam detection using email data\n",
    "from sklearn.model_selection import train_test_split\n",
    "from sklearn.feature_extraction.text import CountVectorizer\n",
    "from sklearn.naive_bayes import MultinomialNB\n",
    "from sklearn.metrics import accuracy_score, classification_report\n",
    "\n",
    "emails = [\n",
    "    \"Win money now!!!\", \"Limited offer, claim your prize\", \"Meeting at 10am tomorrow\",\n",
    "    \"Project update attached\", \"Get cheap meds online\", \"Let's have lunch today\",\n",
    "    \"Congratulations, you won a free trip!\", \"Please review the attached file\",\n",
    "    \"Earn dollars fast\", \"See you in the meeting\"\n",
    "]\n",
    "labels = [1, 1, 0, 0, 1, 0, 1, 0, 1, 0]  # 1 = spam, 0 = not spam\n",
    "\n",
    "X_train, X_test, y_train, y_test = train_test_split(emails, labels, test_size=0.3, random_state=42)\n",
    "\n",
    "vectorizer = CountVectorizer(stop_words='english')\n",
    "X_train_vec = vectorizer.fit_transform(X_train)\n",
    "X_test_vec = vectorizer.transform(X_test)\n",
    "\n",
    "nb = MultinomialNB()\n",
    "nb.fit(X_train_vec, y_train)\n",
    "\n",
    "y_pred = nb.predict(X_test_vec)\n",
    "\n",
    "accuracy = accuracy_score(y_test, y_pred)\n",
    "print(f\"Spam Detection Accuracy: {accuracy:.2f}\")\n",
    "print(\"\\nClassification Report:\")\n",
    "print(classification_report(y_test, y_pred))"
   ]
  },
  {
   "cell_type": "code",
   "execution_count": 8,
   "id": "494b8565-830b-4d99-9e3b-a031be3128e0",
   "metadata": {},
   "outputs": [
    {
     "name": "stdout",
     "output_type": "stream",
     "text": [
      "SVM Classifier Accuracy:        1.00\n",
      "Naive Bayes Classifier Accuracy: 0.98\n"
     ]
    }
   ],
   "source": [
    "#34 Write a Python program to train an SVM Classifier and a Naïve Bayes Classifier on the same dataset and compare their accuracy\n",
    "from sklearn import datasets\n",
    "from sklearn.model_selection import train_test_split\n",
    "from sklearn.svm import SVC\n",
    "from sklearn.naive_bayes import GaussianNB\n",
    "from sklearn.metrics import accuracy_score\n",
    "\n",
    "iris = datasets.load_iris()\n",
    "X, y = iris.data, iris.target\n",
    "\n",
    "X_train, X_test, y_train, y_test = train_test_split(X, y, test_size=0.3, random_state=42)\n",
    "\n",
    "svm = SVC(kernel='rbf')\n",
    "svm.fit(X_train, y_train)\n",
    "y_pred_svm = svm.predict(X_test)\n",
    "acc_svm = accuracy_score(y_test, y_pred_svm)\n",
    "\n",
    "nb = GaussianNB()\n",
    "nb.fit(X_train, y_train)\n",
    "y_pred_nb = nb.predict(X_test)\n",
    "acc_nb = accuracy_score(y_test, y_pred_nb)\n",
    "\n",
    "print(f\"SVM Classifier Accuracy:        {acc_svm:.2f}\")\n",
    "print(f\"Naive Bayes Classifier Accuracy: {acc_nb:.2f}\")"
   ]
  },
  {
   "cell_type": "code",
   "execution_count": 10,
   "id": "362a8ef5-3db5-488e-b89d-d12a779a3122",
   "metadata": {},
   "outputs": [
    {
     "name": "stdout",
     "output_type": "stream",
     "text": [
      "Accuracy without feature selection: 0.94\n",
      "Accuracy with feature selection:    0.96\n"
     ]
    }
   ],
   "source": [
    "#35 Write a Python program to perform feature selection before training a Naïve Bayes classifier and compare results\n",
    "from sklearn.datasets import load_breast_cancer\n",
    "from sklearn.model_selection import train_test_split\n",
    "from sklearn.naive_bayes import GaussianNB\n",
    "from sklearn.metrics import accuracy_score\n",
    "from sklearn.feature_selection import SelectKBest, f_classif\n",
    "\n",
    "data = load_breast_cancer()\n",
    "X, y = data.data, data.target\n",
    "\n",
    "X_train, X_test, y_train, y_test = train_test_split(X, y, test_size=0.3, random_state=42)\n",
    "\n",
    "nb_full = GaussianNB()\n",
    "nb_full.fit(X_train, y_train)\n",
    "y_pred_full = nb_full.predict(X_test)\n",
    "acc_full = accuracy_score(y_test, y_pred_full)\n",
    "\n",
    "selector = SelectKBest(score_func=f_classif, k=10)\n",
    "X_train_sel = selector.fit_transform(X_train, y_train)\n",
    "X_test_sel = selector.transform(X_test)\n",
    "\n",
    "nb_sel = GaussianNB()\n",
    "nb_sel.fit(X_train_sel, y_train)\n",
    "y_pred_sel = nb_sel.predict(X_test_sel)\n",
    "acc_sel = accuracy_score(y_test, y_pred_sel)\n",
    "\n",
    "print(f\"Accuracy without feature selection: {acc_full:.2f}\")\n",
    "print(f\"Accuracy with feature selection:    {acc_sel:.2f}\")"
   ]
  },
  {
   "cell_type": "code",
   "execution_count": 11,
   "id": "52e554c2-ccad-4ace-9840-169e9a90ddc8",
   "metadata": {},
   "outputs": [
    {
     "name": "stdout",
     "output_type": "stream",
     "text": [
      "SVM (One-vs-Rest) Accuracy: 0.72\n",
      "SVM (One-vs-One)  Accuracy: 0.80\n"
     ]
    }
   ],
   "source": [
    "#36 Write a Python program to train an SVM Classifier using One-vs-Rest (OvR) and One-vs-One (OvO) strategies on the Wine dataset and compare their accuracy\n",
    "from sklearn import datasets\n",
    "from sklearn.model_selection import train_test_split\n",
    "from sklearn.svm import SVC\n",
    "from sklearn.multiclass import OneVsRestClassifier, OneVsOneClassifier\n",
    "from sklearn.metrics import accuracy_score\n",
    "\n",
    "wine = datasets.load_wine()\n",
    "X, y = wine.data, wine.target\n",
    "\n",
    "X_train, X_test, y_train, y_test = train_test_split(X, y, test_size=0.3, random_state=42)\n",
    "\n",
    "ovr = OneVsRestClassifier(SVC(kernel='rbf', random_state=42))\n",
    "ovr.fit(X_train, y_train)\n",
    "y_pred_ovr = ovr.predict(X_test)\n",
    "acc_ovr = accuracy_score(y_test, y_pred_ovr)\n",
    "\n",
    "ovo = OneVsOneClassifier(SVC(kernel='rbf', random_state=42))\n",
    "ovo.fit(X_train, y_train)\n",
    "y_pred_ovo = ovo.predict(X_test)\n",
    "acc_ovo = accuracy_score(y_test, y_pred_ovo)\n",
    "\n",
    "print(f\"SVM (One-vs-Rest) Accuracy: {acc_ovr:.2f}\")\n",
    "print(f\"SVM (One-vs-One)  Accuracy: {acc_ovo:.2f}\")"
   ]
  },
  {
   "cell_type": "code",
   "execution_count": 12,
   "id": "aa7e5796-8b14-46b7-a172-e685b8d8d13f",
   "metadata": {},
   "outputs": [
    {
     "name": "stdout",
     "output_type": "stream",
     "text": [
      "SVM (linear kernel) Accuracy: 0.96\n",
      "SVM (poly kernel) Accuracy: 0.94\n",
      "SVM (rbf kernel) Accuracy: 0.94\n"
     ]
    }
   ],
   "source": [
    "#37 Write a Python program to train an SVM Classifier using Linear, Polynomial, and RBF kernels on the Breast Cancer dataset and compare their accuracy\n",
    "from sklearn.datasets import load_breast_cancer\n",
    "from sklearn.model_selection import train_test_split\n",
    "from sklearn.svm import SVC\n",
    "from sklearn.metrics import accuracy_score\n",
    "\n",
    "data = load_breast_cancer()\n",
    "X, y = data.data, data.target\n",
    "\n",
    "X_train, X_test, y_train, y_test = train_test_split(X, y, test_size=0.3, random_state=42)\n",
    "\n",
    "kernels = ['linear', 'poly', 'rbf']\n",
    "for kernel in kernels:\n",
    "    svm = SVC(kernel=kernel)\n",
    "    svm.fit(X_train, y_train)\n",
    "    y_pred = svm.predict(X_test)\n",
    "    acc = accuracy_score(y_test, y_pred)\n",
    "    print(f\"SVM ({kernel} kernel) Accuracy: {acc:.2f}\")"
   ]
  },
  {
   "cell_type": "code",
   "execution_count": 13,
   "id": "708d314b-7af9-405d-8f2d-1985e5e7e196",
   "metadata": {},
   "outputs": [
    {
     "name": "stdout",
     "output_type": "stream",
     "text": [
      "Accuracy for each fold: [1.         0.96666667 0.93333333 1.         0.93333333]\n",
      "Average Accuracy: 0.97\n"
     ]
    }
   ],
   "source": [
    "#38 Write a Python program to train an SVM Classifier using Stratified K-Fold Cross-Validation and compute the average accuracy\n",
    "from sklearn import datasets\n",
    "from sklearn.svm import SVC\n",
    "from sklearn.model_selection import StratifiedKFold, cross_val_score\n",
    "\n",
    "iris = datasets.load_iris()\n",
    "X, y = iris.data, iris.target\n",
    "\n",
    "skf = StratifiedKFold(n_splits=5, shuffle=True, random_state=42)\n",
    "svm = SVC(kernel='rbf')\n",
    "\n",
    "scores = cross_val_score(svm, X, y, cv=skf)\n",
    "print(f\"Accuracy for each fold: {scores}\")\n",
    "print(f\"Average Accuracy: {scores.mean():.2f}\")"
   ]
  },
  {
   "cell_type": "code",
   "execution_count": 14,
   "id": "fe135969-95d5-44a7-a2bd-bee8750f9c49",
   "metadata": {},
   "outputs": [
    {
     "name": "stdout",
     "output_type": "stream",
     "text": [
      "Priors=None, Accuracy=0.98\n",
      "Priors=[0.5, 0.3, 0.2], Accuracy=1.00\n",
      "Priors=[0.33, 0.33, 0.34], Accuracy=0.98\n"
     ]
    }
   ],
   "source": [
    "#39 Write a Python program to train a Naïve Bayes classifier using different prior probabilities and compare performance\n",
    "from sklearn.datasets import load_iris\n",
    "from sklearn.model_selection import train_test_split\n",
    "from sklearn.naive_bayes import GaussianNB\n",
    "from sklearn.metrics import accuracy_score\n",
    "\n",
    "data = load_iris()\n",
    "X, y = data.data, data.target\n",
    "\n",
    "X_train, X_test, y_train, y_test = train_test_split(X, y, test_size=0.3, random_state=42)\n",
    "\n",
    "priors_list = [\n",
    "    None,                    # use class frequencies from data\n",
    "    [0.5, 0.3, 0.2],         # custom prior probabilities\n",
    "    [0.33, 0.33, 0.34]       # uniform prior\n",
    "]\n",
    "\n",
    "for priors in priors_list:\n",
    "    nb = GaussianNB(priors=priors)\n",
    "    nb.fit(X_train, y_train)\n",
    "    y_pred = nb.predict(X_test)\n",
    "    acc = accuracy_score(y_test, y_pred)\n",
    "    print(f\"Priors={priors}, Accuracy={acc:.2f}\")"
   ]
  },
  {
   "cell_type": "code",
   "execution_count": 15,
   "id": "c4675dee-a7b8-4343-8e08-564b91fd1eb0",
   "metadata": {},
   "outputs": [
    {
     "name": "stdout",
     "output_type": "stream",
     "text": [
      "Accuracy without RFE: 0.98\n",
      "Accuracy with RFE:    0.96\n"
     ]
    }
   ],
   "source": [
    "#40 Write a Python program to perform Recursive Feature Elimination (RFE) before training an SVM Classifier and compare accuracy\n",
    "from sklearn.datasets import load_wine\n",
    "from sklearn.model_selection import train_test_split\n",
    "from sklearn.svm import SVC\n",
    "from sklearn.feature_selection import RFE\n",
    "from sklearn.metrics import accuracy_score\n",
    "\n",
    "data = load_wine()\n",
    "X, y = data.data, data.target\n",
    "\n",
    "X_train, X_test, y_train, y_test = train_test_split(X, y, test_size=0.3, random_state=42)\n",
    "\n",
    "svm_full = SVC(kernel='linear')\n",
    "svm_full.fit(X_train, y_train)\n",
    "y_pred_full = svm_full.predict(X_test)\n",
    "acc_full = accuracy_score(y_test, y_pred_full)\n",
    "\n",
    "selector = RFE(estimator=SVC(kernel='linear'), n_features_to_select=5)\n",
    "X_train_rfe = selector.fit_transform(X_train, y_train)\n",
    "X_test_rfe = selector.transform(X_test)\n",
    "\n",
    "svm_rfe = SVC(kernel='linear')\n",
    "svm_rfe.fit(X_train_rfe, y_train)\n",
    "y_pred_rfe = svm_rfe.predict(X_test_rfe)\n",
    "acc_rfe = accuracy_score(y_test, y_pred_rfe)\n",
    "\n",
    "print(f\"Accuracy without RFE: {acc_full:.2f}\")\n",
    "print(f\"Accuracy with RFE:    {acc_rfe:.2f}\")"
   ]
  },
  {
   "cell_type": "code",
   "execution_count": 16,
   "id": "dd09d889-b7d8-4a0d-8505-8572d430ad06",
   "metadata": {},
   "outputs": [
    {
     "name": "stdout",
     "output_type": "stream",
     "text": [
      "Precision: 1.00\n",
      "Recall:    1.00\n",
      "F1-Score:  1.00\n"
     ]
    }
   ],
   "source": [
    "#41 Write a Python program to train an SVM Classifier and evaluate its performance using Precision, Recall, and F1-Score instead of accuracy\n",
    "from sklearn import datasets\n",
    "from sklearn.model_selection import train_test_split\n",
    "from sklearn.svm import SVC\n",
    "from sklearn.metrics import precision_score, recall_score, f1_score\n",
    "\n",
    "iris = datasets.load_iris()\n",
    "X, y = iris.data, iris.target\n",
    "\n",
    "X_train, X_test, y_train, y_test = train_test_split(X, y, test_size=0.3, random_state=42)\n",
    "\n",
    "svm = SVC(kernel='rbf')\n",
    "svm.fit(X_train, y_train)\n",
    "y_pred = svm.predict(X_test)\n",
    "\n",
    "precision = precision_score(y_test, y_pred, average='macro')\n",
    "recall = recall_score(y_test, y_pred, average='macro')\n",
    "f1 = f1_score(y_test, y_pred, average='macro')\n",
    "\n",
    "print(f\"Precision: {precision:.2f}\")\n",
    "print(f\"Recall:    {recall:.2f}\")\n",
    "print(f\"F1-Score:  {f1:.2f}\")"
   ]
  },
  {
   "cell_type": "code",
   "execution_count": 17,
   "id": "5eb91b38-208d-4c69-a2e3-b34d8a87a797",
   "metadata": {},
   "outputs": [
    {
     "name": "stdout",
     "output_type": "stream",
     "text": [
      "Log Loss (Cross-Entropy Loss): 0.0490\n"
     ]
    }
   ],
   "source": [
    "#42 Write a Python program to train a Naïve Bayes Classifier and evaluate its performance using Log Loss (Cross-Entropy Loss)\n",
    "from sklearn.datasets import load_iris\n",
    "from sklearn.model_selection import train_test_split\n",
    "from sklearn.naive_bayes import GaussianNB\n",
    "from sklearn.metrics import log_loss\n",
    "\n",
    "data = load_iris()\n",
    "X, y = data.data, data.target\n",
    "\n",
    "X_train, X_test, y_train, y_test = train_test_split(X, y, test_size=0.3, random_state=42)\n",
    "\n",
    "nb = GaussianNB()\n",
    "nb.fit(X_train, y_train)\n",
    "\n",
    "y_prob = nb.predict_proba(X_test)\n",
    "loss = log_loss(y_test, y_prob)\n",
    "\n",
    "print(f\"Log Loss (Cross-Entropy Loss): {loss:.4f}\")"
   ]
  },
  {
   "cell_type": "code",
   "execution_count": 18,
   "id": "40f7ddef-fd6e-43f6-88ea-28071bde7b61",
   "metadata": {},
   "outputs": [
    {
     "data": {
      "image/png": "[encoded data removed]",
      "text/plain": [
       "<Figure size 640x480 with 2 Axes>"
      ]
     },
     "metadata": {},
     "output_type": "display_data"
    }
   ],
   "source": [
    "#43 Write a Python program to train an SVM Classifier and visualize the Confusion Matrix using seaborn\n",
    "import seaborn as sns\n",
    "import matplotlib.pyplot as plt\n",
    "from sklearn import datasets\n",
    "from sklearn.model_selection import train_test_split\n",
    "from sklearn.svm import SVC\n",
    "from sklearn.metrics import confusion_matrix\n",
    "\n",
    "iris = datasets.load_iris()\n",
    "X, y = iris.data, iris.target\n",
    "\n",
    "X_train, X_test, y_train, y_test = train_test_split(X, y, test_size=0.3, random_state=42)\n",
    "\n",
    "svm = SVC(kernel='rbf')\n",
    "svm.fit(X_train, y_train)\n",
    "y_pred = svm.predict(X_test)\n",
    "\n",
    "cm = confusion_matrix(y_test, y_pred)\n",
    "\n",
    "sns.heatmap(cm, annot=True, fmt='d', cmap='Blues')\n",
    "plt.xlabel('Predicted')\n",
    "plt.ylabel('Actual')\n",
    "plt.title('SVM Confusion Matrix')\n",
    "plt.show()"
   ]
  },
  {
   "cell_type": "code",
   "execution_count": 19,
   "id": "5aa2f4c4-b10a-4c7d-8cf2-94603d7b5c0e",
   "metadata": {},
   "outputs": [
    {
     "name": "stdout",
     "output_type": "stream",
     "text": [
      "SVR Mean Absolute Error: 0.3963\n"
     ]
    }
   ],
   "source": [
    "#44 Write a Python program to train an SVM Regressor (SVR) and evaluate its performance using Mean Absolute Error (MAE) instead of MSE\n",
    "from sklearn.datasets import fetch_california_housing\n",
    "from sklearn.model_selection import train_test_split\n",
    "from sklearn.svm import SVR\n",
    "from sklearn.metrics import mean_absolute_error\n",
    "from sklearn.preprocessing import StandardScaler\n",
    "\n",
    "housing = fetch_california_housing()\n",
    "X, y = housing.data, housing.target\n",
    "\n",
    "scaler = StandardScaler()\n",
    "X_scaled = scaler.fit_transform(X)\n",
    "\n",
    "X_train, X_test, y_train, y_test = train_test_split(X_scaled, y, test_size=0.3, random_state=42)\n",
    "\n",
    "svr = SVR(kernel='rbf')\n",
    "svr.fit(X_train, y_train)\n",
    "\n",
    "y_pred = svr.predict(X_test)\n",
    "\n",
    "mae = mean_absolute_error(y_test, y_pred)\n",
    "print(f\"SVR Mean Absolute Error: {mae:.4f}\")"
   ]
  },
  {
   "cell_type": "code",
   "execution_count": 20,
   "id": "495a05b1-ff01-43a4-9945-bcf1b9cb9feb",
   "metadata": {},
   "outputs": [
    {
     "name": "stdout",
     "output_type": "stream",
     "text": [
      "ROC-AUC Score: 0.9922\n"
     ]
    }
   ],
   "source": [
    "#45 Write a Python program to train a Naïve Bayes classifier and evaluate its performance using the ROC-AUC score\n",
    "from sklearn.datasets import load_breast_cancer\n",
    "from sklearn.model_selection import train_test_split\n",
    "from sklearn.naive_bayes import GaussianNB\n",
    "from sklearn.metrics import roc_auc_score\n",
    "\n",
    "data = load_breast_cancer()\n",
    "X, y = data.data, data.target\n",
    "\n",
    "X_train, X_test, y_train, y_test = train_test_split(X, y, test_size=0.3, random_state=42)\n",
    "\n",
    "nb = GaussianNB()\n",
    "nb.fit(X_train, y_train)\n",
    "\n",
    "y_prob = nb.predict_proba(X_test)[:, 1]\n",
    "roc_auc = roc_auc_score(y_test, y_prob)\n",
    "\n",
    "print(f\"ROC-AUC Score: {roc_auc:.4f}\")"
   ]
  },
  {
   "cell_type": "code",
   "execution_count": null,
   "id": "4d88c425-cad7-4890-b16e-41a90e5f0207",
   "metadata": {},
   "outputs": [],
   "source": [
    "#46 Write a Python program to train an SVM Classifier and visualize the Precision-Recall Curve\n"
   ]
  }
 ],
 "metadata": {
  "kernelspec": {
   "display_name": "Python 3 (ipykernel)",
   "language": "python",
   "name": "python3"
  },
  "language_info": {
   "codemirror_mode": {
    "name": "ipython",
    "version": 3
   },
   "file_extension": ".py",
   "mimetype": "text/x-python",
   "name": "python",
   "nbconvert_exporter": "python",
   "pygments_lexer": "ipython3",
   "version": "3.12.7"
  }
 },
 "nbformat": 4,
 "nbformat_minor": 5
}
